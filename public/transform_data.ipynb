{
 "cells": [
  {
   "cell_type": "code",
   "execution_count": 1,
   "metadata": {},
   "outputs": [],
   "source": [
    "import pandas as pd"
   ]
  },
  {
   "cell_type": "code",
   "execution_count": 2,
   "metadata": {},
   "outputs": [],
   "source": [
    "tracks = pd.read_json(\"tracks.json\")"
   ]
  },
  {
   "cell_type": "code",
   "execution_count": 3,
   "metadata": {},
   "outputs": [
    {
     "data": {
      "text/html": [
       "<div>\n",
       "<style scoped>\n",
       "    .dataframe tbody tr th:only-of-type {\n",
       "        vertical-align: middle;\n",
       "    }\n",
       "\n",
       "    .dataframe tbody tr th {\n",
       "        vertical-align: top;\n",
       "    }\n",
       "\n",
       "    .dataframe thead th {\n",
       "        text-align: right;\n",
       "    }\n",
       "</style>\n",
       "<table border=\"1\" class=\"dataframe\">\n",
       "  <thead>\n",
       "    <tr style=\"text-align: right;\">\n",
       "      <th></th>\n",
       "      <th>id</th>\n",
       "      <th>explicit</th>\n",
       "      <th>name</th>\n",
       "      <th>previewUrl</th>\n",
       "      <th>isrc</th>\n",
       "      <th>isrcYear</th>\n",
       "      <th>isrcAgency</th>\n",
       "      <th>isrcTerritory</th>\n",
       "      <th>danceability</th>\n",
       "      <th>energy</th>\n",
       "      <th>...</th>\n",
       "      <th>loudness</th>\n",
       "      <th>mode</th>\n",
       "      <th>speechiness</th>\n",
       "      <th>acousticness</th>\n",
       "      <th>instrumentalness</th>\n",
       "      <th>liveness</th>\n",
       "      <th>valence</th>\n",
       "      <th>tempo</th>\n",
       "      <th>durationMs</th>\n",
       "      <th>timeSignature</th>\n",
       "    </tr>\n",
       "  </thead>\n",
       "  <tbody>\n",
       "    <tr>\n",
       "      <th>0</th>\n",
       "      <td>000RW47rhEkSqjgTrZx7YX</td>\n",
       "      <td>False</td>\n",
       "      <td>Lance Individual</td>\n",
       "      <td>https://p.scdn.co/mp3-preview/c64292f4c53560bc...</td>\n",
       "      <td>BRRGE2010642</td>\n",
       "      <td>2020</td>\n",
       "      <td>Pro-música Brazil</td>\n",
       "      <td>Brazil</td>\n",
       "      <td>0.752</td>\n",
       "      <td>0.620</td>\n",
       "      <td>...</td>\n",
       "      <td>-5.536</td>\n",
       "      <td>1</td>\n",
       "      <td>0.0509</td>\n",
       "      <td>0.30900</td>\n",
       "      <td>0.000000</td>\n",
       "      <td>0.0750</td>\n",
       "      <td>0.962</td>\n",
       "      <td>117.399</td>\n",
       "      <td>164459</td>\n",
       "      <td>4</td>\n",
       "    </tr>\n",
       "    <tr>\n",
       "      <th>1</th>\n",
       "      <td>000xQL6tZNLJzIrtIgxqSl</td>\n",
       "      <td>False</td>\n",
       "      <td>Still Got Time (feat. PARTYNEXTDOOR)</td>\n",
       "      <td>https://p.scdn.co/mp3-preview/83fad967740b8a85...</td>\n",
       "      <td>USRC11700675</td>\n",
       "      <td>2017</td>\n",
       "      <td>RIAA</td>\n",
       "      <td>United States</td>\n",
       "      <td>0.748</td>\n",
       "      <td>0.627</td>\n",
       "      <td>...</td>\n",
       "      <td>-6.029</td>\n",
       "      <td>1</td>\n",
       "      <td>0.0639</td>\n",
       "      <td>0.13100</td>\n",
       "      <td>0.000000</td>\n",
       "      <td>0.0852</td>\n",
       "      <td>0.524</td>\n",
       "      <td>120.963</td>\n",
       "      <td>188491</td>\n",
       "      <td>4</td>\n",
       "    </tr>\n",
       "    <tr>\n",
       "      <th>2</th>\n",
       "      <td>000xYdQfIZ4pDmBGzQalKU</td>\n",
       "      <td>False</td>\n",
       "      <td>Eu, Você, O Mar e Ela</td>\n",
       "      <td>https://p.scdn.co/mp3-preview/ae0e943883e06623...</td>\n",
       "      <td>BRRGE1603547</td>\n",
       "      <td>2016</td>\n",
       "      <td>Pro-música Brazil</td>\n",
       "      <td>Brazil</td>\n",
       "      <td>0.509</td>\n",
       "      <td>0.803</td>\n",
       "      <td>...</td>\n",
       "      <td>-6.743</td>\n",
       "      <td>1</td>\n",
       "      <td>0.0400</td>\n",
       "      <td>0.68400</td>\n",
       "      <td>0.000539</td>\n",
       "      <td>0.4630</td>\n",
       "      <td>0.651</td>\n",
       "      <td>166.018</td>\n",
       "      <td>187119</td>\n",
       "      <td>4</td>\n",
       "    </tr>\n",
       "    <tr>\n",
       "      <th>3</th>\n",
       "      <td>001b8t3bYPfnabpjpfG1Y4</td>\n",
       "      <td>True</td>\n",
       "      <td>Geen Stof</td>\n",
       "      <td>https://p.scdn.co/mp3-preview/535320aa4cbc5811...</td>\n",
       "      <td>NLG662000948</td>\n",
       "      <td>2020</td>\n",
       "      <td>SENA</td>\n",
       "      <td>Netherlands</td>\n",
       "      <td>0.772</td>\n",
       "      <td>0.635</td>\n",
       "      <td>...</td>\n",
       "      <td>-4.846</td>\n",
       "      <td>1</td>\n",
       "      <td>0.3720</td>\n",
       "      <td>0.10500</td>\n",
       "      <td>0.000000</td>\n",
       "      <td>0.1170</td>\n",
       "      <td>0.541</td>\n",
       "      <td>95.951</td>\n",
       "      <td>167866</td>\n",
       "      <td>4</td>\n",
       "    </tr>\n",
       "    <tr>\n",
       "      <th>4</th>\n",
       "      <td>003VDDA7J3Xb2ZFlNx7nIZ</td>\n",
       "      <td>True</td>\n",
       "      <td>YELL OH</td>\n",
       "      <td>https://p.scdn.co/mp3-preview/14e659590d1a70cf...</td>\n",
       "      <td>QZJ842000061</td>\n",
       "      <td>2020</td>\n",
       "      <td>RIAA</td>\n",
       "      <td>United States</td>\n",
       "      <td>0.842</td>\n",
       "      <td>0.578</td>\n",
       "      <td>...</td>\n",
       "      <td>-6.050</td>\n",
       "      <td>0</td>\n",
       "      <td>0.1380</td>\n",
       "      <td>0.00419</td>\n",
       "      <td>0.000000</td>\n",
       "      <td>0.2280</td>\n",
       "      <td>0.190</td>\n",
       "      <td>74.496</td>\n",
       "      <td>236779</td>\n",
       "      <td>4</td>\n",
       "    </tr>\n",
       "  </tbody>\n",
       "</table>\n",
       "<p>5 rows × 21 columns</p>\n",
       "</div>"
      ],
      "text/plain": [
       "                       id  explicit                                  name  \\\n",
       "0  000RW47rhEkSqjgTrZx7YX     False                      Lance Individual   \n",
       "1  000xQL6tZNLJzIrtIgxqSl     False  Still Got Time (feat. PARTYNEXTDOOR)   \n",
       "2  000xYdQfIZ4pDmBGzQalKU     False                 Eu, Você, O Mar e Ela   \n",
       "3  001b8t3bYPfnabpjpfG1Y4      True                             Geen Stof   \n",
       "4  003VDDA7J3Xb2ZFlNx7nIZ      True                               YELL OH   \n",
       "\n",
       "                                          previewUrl          isrc  isrcYear  \\\n",
       "0  https://p.scdn.co/mp3-preview/c64292f4c53560bc...  BRRGE2010642      2020   \n",
       "1  https://p.scdn.co/mp3-preview/83fad967740b8a85...  USRC11700675      2017   \n",
       "2  https://p.scdn.co/mp3-preview/ae0e943883e06623...  BRRGE1603547      2016   \n",
       "3  https://p.scdn.co/mp3-preview/535320aa4cbc5811...  NLG662000948      2020   \n",
       "4  https://p.scdn.co/mp3-preview/14e659590d1a70cf...  QZJ842000061      2020   \n",
       "\n",
       "          isrcAgency  isrcTerritory  danceability  energy  ...  loudness  \\\n",
       "0  Pro-música Brazil         Brazil         0.752   0.620  ...    -5.536   \n",
       "1               RIAA  United States         0.748   0.627  ...    -6.029   \n",
       "2  Pro-música Brazil         Brazil         0.509   0.803  ...    -6.743   \n",
       "3               SENA    Netherlands         0.772   0.635  ...    -4.846   \n",
       "4               RIAA  United States         0.842   0.578  ...    -6.050   \n",
       "\n",
       "   mode  speechiness  acousticness  instrumentalness  liveness  valence  \\\n",
       "0     1       0.0509       0.30900          0.000000    0.0750    0.962   \n",
       "1     1       0.0639       0.13100          0.000000    0.0852    0.524   \n",
       "2     1       0.0400       0.68400          0.000539    0.4630    0.651   \n",
       "3     1       0.3720       0.10500          0.000000    0.1170    0.541   \n",
       "4     0       0.1380       0.00419          0.000000    0.2280    0.190   \n",
       "\n",
       "     tempo  durationMs  timeSignature  \n",
       "0  117.399      164459              4  \n",
       "1  120.963      188491              4  \n",
       "2  166.018      187119              4  \n",
       "3   95.951      167866              4  \n",
       "4   74.496      236779              4  \n",
       "\n",
       "[5 rows x 21 columns]"
      ]
     },
     "execution_count": 3,
     "metadata": {},
     "output_type": "execute_result"
    }
   ],
   "source": [
    "tracks.head()"
   ]
  },
  {
   "cell_type": "code",
   "execution_count": 4,
   "metadata": {},
   "outputs": [
    {
     "data": {
      "text/plain": [
       "id                   object\n",
       "explicit               bool\n",
       "name                 object\n",
       "previewUrl           object\n",
       "isrc                 object\n",
       "isrcYear              int64\n",
       "isrcAgency           object\n",
       "isrcTerritory        object\n",
       "danceability        float64\n",
       "energy              float64\n",
       "key                   int64\n",
       "loudness            float64\n",
       "mode                  int64\n",
       "speechiness         float64\n",
       "acousticness        float64\n",
       "instrumentalness    float64\n",
       "liveness            float64\n",
       "valence             float64\n",
       "tempo               float64\n",
       "durationMs            int64\n",
       "timeSignature         int64\n",
       "dtype: object"
      ]
     },
     "execution_count": 4,
     "metadata": {},
     "output_type": "execute_result"
    }
   ],
   "source": [
    "tracks.dtypes"
   ]
  },
  {
   "cell_type": "code",
   "execution_count": 5,
   "metadata": {},
   "outputs": [
    {
     "data": {
      "text/plain": [
       "0        1\n",
       "1        1\n",
       "2        1\n",
       "3        1\n",
       "4        0\n",
       "        ..\n",
       "33845    0\n",
       "33846    1\n",
       "33847    1\n",
       "33848    1\n",
       "33849    0\n",
       "Name: mode, Length: 33850, dtype: int64"
      ]
     },
     "execution_count": 5,
     "metadata": {},
     "output_type": "execute_result"
    }
   ],
   "source": [
    "tracks[\"mode\"]"
   ]
  },
  {
   "cell_type": "code",
   "execution_count": 6,
   "metadata": {},
   "outputs": [],
   "source": [
    "import seaborn as sns"
   ]
  },
  {
   "cell_type": "code",
   "execution_count": 7,
   "metadata": {},
   "outputs": [
    {
     "data": {
      "text/plain": [
       "<AxesSubplot:xlabel='mode', ylabel='count'>"
      ]
     },
     "execution_count": 7,
     "metadata": {},
     "output_type": "execute_result"
    },
    {
     "data": {
      "image/png": "[encoded data removed]",
      "text/plain": [
       "<Figure size 640x480 with 1 Axes>"
      ]
     },
     "metadata": {},
     "output_type": "display_data"
    }
   ],
   "source": [
    "sns.countplot(x=\"mode\", data=tracks)"
   ]
  },
  {
   "cell_type": "code",
   "execution_count": 8,
   "metadata": {},
   "outputs": [],
   "source": [
    "tracks[\"mode\"] = tracks[\"mode\"].astype(\"category\")"
   ]
  },
  {
   "cell_type": "code",
   "execution_count": 9,
   "metadata": {},
   "outputs": [],
   "source": [
    "tracks[\"mode\"] = tracks[\"mode\"].cat.rename_categories({ 0: \"Minor\", 1: \"Major\" })"
   ]
  },
  {
   "cell_type": "code",
   "execution_count": 10,
   "metadata": {},
   "outputs": [
    {
     "data": {
      "text/plain": [
       "Major    18004\n",
       "Minor    15846\n",
       "Name: mode, dtype: int64"
      ]
     },
     "execution_count": 10,
     "metadata": {},
     "output_type": "execute_result"
    }
   ],
   "source": [
    "tracks[\"mode\"].value_counts()"
   ]
  },
  {
   "cell_type": "code",
   "execution_count": 11,
   "metadata": {},
   "outputs": [
    {
     "data": {
      "text/plain": [
       "4    0.935894\n",
       "3    0.040325\n",
       "5    0.019645\n",
       "1    0.004077\n",
       "0    0.000059\n",
       "Name: timeSignature, dtype: float64"
      ]
     },
     "execution_count": 11,
     "metadata": {},
     "output_type": "execute_result"
    }
   ],
   "source": [
    "tracks.timeSignature.value_counts(normalize=True)"
   ]
  },
  {
   "cell_type": "code",
   "execution_count": 12,
   "metadata": {},
   "outputs": [],
   "source": [
    "def rename_least_frequent_to_other(series, share_of_total=0.01):\n",
    "    \"\"\"Rename least frequent values to 'Other'.\"\"\"\n",
    "    counts = series.value_counts()\n",
    "    least_frequent = counts[counts < share_of_total * counts.sum()]\n",
    "    return series.replace(least_frequent.index, \"Other\")"
   ]
  },
  {
   "cell_type": "code",
   "execution_count": 13,
   "metadata": {},
   "outputs": [
    {
     "data": {
      "text/plain": [
       "4        0.935894\n",
       "3        0.040325\n",
       "5        0.019645\n",
       "Other    0.004136\n",
       "Name: timeSignature, dtype: float64"
      ]
     },
     "execution_count": 13,
     "metadata": {},
     "output_type": "execute_result"
    }
   ],
   "source": [
    "rename_least_frequent_to_other(tracks.timeSignature).value_counts(normalize=True)"
   ]
  },
  {
   "cell_type": "code",
   "execution_count": 14,
   "metadata": {},
   "outputs": [],
   "source": [
    "tracks[\"timeSignature\"] = rename_least_frequent_to_other(tracks.timeSignature)"
   ]
  },
  {
   "cell_type": "code",
   "execution_count": 15,
   "metadata": {},
   "outputs": [],
   "source": [
    "tracks[\"timeSignature\"] = tracks[\"timeSignature\"].astype(\"category\")"
   ]
  },
  {
   "cell_type": "code",
   "execution_count": 16,
   "metadata": {},
   "outputs": [],
   "source": [
    "tracks[\"timeSignature\"] = tracks[\"timeSignature\"].cat.rename_categories({ 3: \"3/4\", 4: \"4/4\", 5: \"5/4\" })"
   ]
  },
  {
   "cell_type": "code",
   "execution_count": 17,
   "metadata": {},
   "outputs": [
    {
     "data": {
      "text/plain": [
       "4/4      31680\n",
       "3/4       1365\n",
       "5/4        665\n",
       "Other      140\n",
       "Name: timeSignature, dtype: int64"
      ]
     },
     "execution_count": 17,
     "metadata": {},
     "output_type": "execute_result"
    }
   ],
   "source": [
    "tracks[\"timeSignature\"].value_counts()"
   ]
  },
  {
   "cell_type": "code",
   "execution_count": 22,
   "metadata": {},
   "outputs": [],
   "source": [
    "tracks[\"explicit\"] = tracks[\"explicit\"].astype(\"category\")\n",
    "tracks[\"explicit\"] = tracks[\"explicit\"].cat.rename_categories({ 0: \"No\", 1: \"Yes\" })"
   ]
  },
  {
   "cell_type": "code",
   "execution_count": 25,
   "metadata": {},
   "outputs": [],
   "source": [
    "tracks[\"key\"] = tracks[\"key\"].astype(\"category\")\n",
    "tracks[\"key\"] = tracks[\"key\"].cat.rename_categories({ 0: \"C\", 1: \"C#/Db\", 2: \"D\", 3: \"D#/Eb\", 4: \"E\", 5: \"F\", 6: \"F#/Gb\", 7: \"G\", 8: \"G#/Ab\", 9: \"A\", 10: \"A#/Bb\", 11: \"B\" })"
   ]
  },
  {
   "cell_type": "code",
   "execution_count": 26,
   "metadata": {},
   "outputs": [
    {
     "data": {
      "text/html": [
       "<div>\n",
       "<style scoped>\n",
       "    .dataframe tbody tr th:only-of-type {\n",
       "        vertical-align: middle;\n",
       "    }\n",
       "\n",
       "    .dataframe tbody tr th {\n",
       "        vertical-align: top;\n",
       "    }\n",
       "\n",
       "    .dataframe thead th {\n",
       "        text-align: right;\n",
       "    }\n",
       "</style>\n",
       "<table border=\"1\" class=\"dataframe\">\n",
       "  <thead>\n",
       "    <tr style=\"text-align: right;\">\n",
       "      <th></th>\n",
       "      <th>id</th>\n",
       "      <th>explicit</th>\n",
       "      <th>name</th>\n",
       "      <th>previewUrl</th>\n",
       "      <th>isrc</th>\n",
       "      <th>isrcYear</th>\n",
       "      <th>isrcAgency</th>\n",
       "      <th>isrcTerritory</th>\n",
       "      <th>danceability</th>\n",
       "      <th>energy</th>\n",
       "      <th>...</th>\n",
       "      <th>loudness</th>\n",
       "      <th>mode</th>\n",
       "      <th>speechiness</th>\n",
       "      <th>acousticness</th>\n",
       "      <th>instrumentalness</th>\n",
       "      <th>liveness</th>\n",
       "      <th>valence</th>\n",
       "      <th>tempo</th>\n",
       "      <th>durationMs</th>\n",
       "      <th>timeSignature</th>\n",
       "    </tr>\n",
       "  </thead>\n",
       "  <tbody>\n",
       "    <tr>\n",
       "      <th>0</th>\n",
       "      <td>000RW47rhEkSqjgTrZx7YX</td>\n",
       "      <td>No</td>\n",
       "      <td>Lance Individual</td>\n",
       "      <td>https://p.scdn.co/mp3-preview/c64292f4c53560bc...</td>\n",
       "      <td>BRRGE2010642</td>\n",
       "      <td>2020</td>\n",
       "      <td>Pro-música Brazil</td>\n",
       "      <td>Brazil</td>\n",
       "      <td>0.752</td>\n",
       "      <td>0.620</td>\n",
       "      <td>...</td>\n",
       "      <td>-5.536</td>\n",
       "      <td>Major</td>\n",
       "      <td>0.0509</td>\n",
       "      <td>0.30900</td>\n",
       "      <td>0.000000</td>\n",
       "      <td>0.0750</td>\n",
       "      <td>0.962</td>\n",
       "      <td>117.399</td>\n",
       "      <td>164459</td>\n",
       "      <td>4/4</td>\n",
       "    </tr>\n",
       "    <tr>\n",
       "      <th>1</th>\n",
       "      <td>000xQL6tZNLJzIrtIgxqSl</td>\n",
       "      <td>No</td>\n",
       "      <td>Still Got Time (feat. PARTYNEXTDOOR)</td>\n",
       "      <td>https://p.scdn.co/mp3-preview/83fad967740b8a85...</td>\n",
       "      <td>USRC11700675</td>\n",
       "      <td>2017</td>\n",
       "      <td>RIAA</td>\n",
       "      <td>United States</td>\n",
       "      <td>0.748</td>\n",
       "      <td>0.627</td>\n",
       "      <td>...</td>\n",
       "      <td>-6.029</td>\n",
       "      <td>Major</td>\n",
       "      <td>0.0639</td>\n",
       "      <td>0.13100</td>\n",
       "      <td>0.000000</td>\n",
       "      <td>0.0852</td>\n",
       "      <td>0.524</td>\n",
       "      <td>120.963</td>\n",
       "      <td>188491</td>\n",
       "      <td>4/4</td>\n",
       "    </tr>\n",
       "    <tr>\n",
       "      <th>2</th>\n",
       "      <td>000xYdQfIZ4pDmBGzQalKU</td>\n",
       "      <td>No</td>\n",
       "      <td>Eu, Você, O Mar e Ela</td>\n",
       "      <td>https://p.scdn.co/mp3-preview/ae0e943883e06623...</td>\n",
       "      <td>BRRGE1603547</td>\n",
       "      <td>2016</td>\n",
       "      <td>Pro-música Brazil</td>\n",
       "      <td>Brazil</td>\n",
       "      <td>0.509</td>\n",
       "      <td>0.803</td>\n",
       "      <td>...</td>\n",
       "      <td>-6.743</td>\n",
       "      <td>Major</td>\n",
       "      <td>0.0400</td>\n",
       "      <td>0.68400</td>\n",
       "      <td>0.000539</td>\n",
       "      <td>0.4630</td>\n",
       "      <td>0.651</td>\n",
       "      <td>166.018</td>\n",
       "      <td>187119</td>\n",
       "      <td>4/4</td>\n",
       "    </tr>\n",
       "    <tr>\n",
       "      <th>3</th>\n",
       "      <td>001b8t3bYPfnabpjpfG1Y4</td>\n",
       "      <td>Yes</td>\n",
       "      <td>Geen Stof</td>\n",
       "      <td>https://p.scdn.co/mp3-preview/535320aa4cbc5811...</td>\n",
       "      <td>NLG662000948</td>\n",
       "      <td>2020</td>\n",
       "      <td>SENA</td>\n",
       "      <td>Netherlands</td>\n",
       "      <td>0.772</td>\n",
       "      <td>0.635</td>\n",
       "      <td>...</td>\n",
       "      <td>-4.846</td>\n",
       "      <td>Major</td>\n",
       "      <td>0.3720</td>\n",
       "      <td>0.10500</td>\n",
       "      <td>0.000000</td>\n",
       "      <td>0.1170</td>\n",
       "      <td>0.541</td>\n",
       "      <td>95.951</td>\n",
       "      <td>167866</td>\n",
       "      <td>4/4</td>\n",
       "    </tr>\n",
       "    <tr>\n",
       "      <th>4</th>\n",
       "      <td>003VDDA7J3Xb2ZFlNx7nIZ</td>\n",
       "      <td>Yes</td>\n",
       "      <td>YELL OH</td>\n",
       "      <td>https://p.scdn.co/mp3-preview/14e659590d1a70cf...</td>\n",
       "      <td>QZJ842000061</td>\n",
       "      <td>2020</td>\n",
       "      <td>RIAA</td>\n",
       "      <td>United States</td>\n",
       "      <td>0.842</td>\n",
       "      <td>0.578</td>\n",
       "      <td>...</td>\n",
       "      <td>-6.050</td>\n",
       "      <td>Minor</td>\n",
       "      <td>0.1380</td>\n",
       "      <td>0.00419</td>\n",
       "      <td>0.000000</td>\n",
       "      <td>0.2280</td>\n",
       "      <td>0.190</td>\n",
       "      <td>74.496</td>\n",
       "      <td>236779</td>\n",
       "      <td>4/4</td>\n",
       "    </tr>\n",
       "  </tbody>\n",
       "</table>\n",
       "<p>5 rows × 21 columns</p>\n",
       "</div>"
      ],
      "text/plain": [
       "                       id explicit                                  name  \\\n",
       "0  000RW47rhEkSqjgTrZx7YX       No                      Lance Individual   \n",
       "1  000xQL6tZNLJzIrtIgxqSl       No  Still Got Time (feat. PARTYNEXTDOOR)   \n",
       "2  000xYdQfIZ4pDmBGzQalKU       No                 Eu, Você, O Mar e Ela   \n",
       "3  001b8t3bYPfnabpjpfG1Y4      Yes                             Geen Stof   \n",
       "4  003VDDA7J3Xb2ZFlNx7nIZ      Yes                               YELL OH   \n",
       "\n",
       "                                          previewUrl          isrc  isrcYear  \\\n",
       "0  https://p.scdn.co/mp3-preview/c64292f4c53560bc...  BRRGE2010642      2020   \n",
       "1  https://p.scdn.co/mp3-preview/83fad967740b8a85...  USRC11700675      2017   \n",
       "2  https://p.scdn.co/mp3-preview/ae0e943883e06623...  BRRGE1603547      2016   \n",
       "3  https://p.scdn.co/mp3-preview/535320aa4cbc5811...  NLG662000948      2020   \n",
       "4  https://p.scdn.co/mp3-preview/14e659590d1a70cf...  QZJ842000061      2020   \n",
       "\n",
       "          isrcAgency  isrcTerritory  danceability  energy  ... loudness  \\\n",
       "0  Pro-música Brazil         Brazil         0.752   0.620  ...   -5.536   \n",
       "1               RIAA  United States         0.748   0.627  ...   -6.029   \n",
       "2  Pro-música Brazil         Brazil         0.509   0.803  ...   -6.743   \n",
       "3               SENA    Netherlands         0.772   0.635  ...   -4.846   \n",
       "4               RIAA  United States         0.842   0.578  ...   -6.050   \n",
       "\n",
       "    mode speechiness  acousticness  instrumentalness  liveness  valence  \\\n",
       "0  Major      0.0509       0.30900          0.000000    0.0750    0.962   \n",
       "1  Major      0.0639       0.13100          0.000000    0.0852    0.524   \n",
       "2  Major      0.0400       0.68400          0.000539    0.4630    0.651   \n",
       "3  Major      0.3720       0.10500          0.000000    0.1170    0.541   \n",
       "4  Minor      0.1380       0.00419          0.000000    0.2280    0.190   \n",
       "\n",
       "     tempo  durationMs  timeSignature  \n",
       "0  117.399      164459            4/4  \n",
       "1  120.963      188491            4/4  \n",
       "2  166.018      187119            4/4  \n",
       "3   95.951      167866            4/4  \n",
       "4   74.496      236779            4/4  \n",
       "\n",
       "[5 rows x 21 columns]"
      ]
     },
     "execution_count": 26,
     "metadata": {},
     "output_type": "execute_result"
    }
   ],
   "source": [
    "tracks.head()"
   ]
  },
  {
   "cell_type": "code",
   "execution_count": 27,
   "metadata": {},
   "outputs": [
    {
     "data": {
      "text/plain": [
       "id                    object\n",
       "explicit            category\n",
       "name                  object\n",
       "previewUrl            object\n",
       "isrc                  object\n",
       "isrcYear               int64\n",
       "isrcAgency            object\n",
       "isrcTerritory         object\n",
       "danceability         float64\n",
       "energy               float64\n",
       "key                 category\n",
       "loudness             float64\n",
       "mode                category\n",
       "speechiness          float64\n",
       "acousticness         float64\n",
       "instrumentalness     float64\n",
       "liveness             float64\n",
       "valence              float64\n",
       "tempo                float64\n",
       "durationMs             int64\n",
       "timeSignature       category\n",
       "dtype: object"
      ]
     },
     "execution_count": 27,
     "metadata": {},
     "output_type": "execute_result"
    }
   ],
   "source": [
    "tracks.dtypes"
   ]
  },
  {
   "cell_type": "code",
   "execution_count": null,
   "metadata": {},
   "outputs": [],
   "source": []
  }
 ],
 "metadata": {
  "kernelspec": {
   "display_name": "sejmouvisds",
   "language": "python",
   "name": "python3"
  },
  "language_info": {
   "codemirror_mode": {
    "name": "ipython",
    "version": 3
   },
   "file_extension": ".py",
   "mimetype": "text/x-python",
   "name": "python",
   "nbconvert_exporter": "python",
   "pygments_lexer": "ipython3",
   "version": "3.10.4"
  },
  "orig_nbformat": 4,
  "vscode": {
   "interpreter": {
    "hash": "8513d7823e541875ad872d8139478b18b6793d7fc44af64226c569f61ae21736"
   }
  }
 },
 "nbformat": 4,
 "nbformat_minor": 2
}
